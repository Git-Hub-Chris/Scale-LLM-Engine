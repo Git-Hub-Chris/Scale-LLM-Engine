{
 "cells": [
  {
   "cell_type": "code",
   "execution_count": null,
   "metadata": {},
   "outputs": [],
   "source": [
    "# TODO prepare data"
   ]
  },
  {
   "cell_type": "code",
   "execution_count": null,
   "metadata": {},
   "outputs": [],
   "source": [
    "from llmengine import FineTune, Completion, Model\n",
    "\n",
    "create_fine_tune_response = FineTune.create(\n",
    "    model=\"llama-7b\",\n",
    "    training_file=\"s3://TODO\",\n",
    "    validation_file=None,\n",
    "    hyperparameters={},\n",
    "    suffix=\"my-first-finetune\"\n",
    ")\n",
    "\n",
    "fine_tune_id = create_fine_tune_response.fine_tune_id\n",
    "\n",
    "\n",
    "\"\"\"\n",
    "Args:\n",
    "            training_file (`str`):\n",
    "                A path to the file containing the training dataset.\n",
    "                Dataset must be a CSV file with columns 'prompt' and 'response'.\n",
    "                The value must be the URI of a publicly accessible file on bulk storage, e.g.\n",
    "                s3://{public_s3_bucket}/{public_s3_key} for a file stored on s3.\n",
    "            validation_file (`str`):\n",
    "                A path to the file containing the validation dataset.\n",
    "                Has the same format as training_file.\n",
    "                If not provided, we will generate a split from the training dataset.\n",
    "            model_name (`str`):\n",
    "                The name of the fine-tuned model\n",
    "            base_model (`str`):\n",
    "                Base model to train from\n",
    "            fine_tuning_method (`str`):\n",
    "                Fine-tuning method\n",
    "            hyperparameters (`str`):\n",
    "                Hyperparameters\n",
    "\"\"\""
   ]
  },
  {
   "cell_type": "code",
   "execution_count": null,
   "metadata": {},
   "outputs": [],
   "source": [
    "# Wait for fine tune to complete\n",
    "\n",
    "import time\n",
    "while True:\n",
    "    fine_tune_status = FineTune.retrieve(fine_tune_id).status\n",
    "    if fine_tune_status == \"SUCCESS\":\n",
    "        break\n",
    "    elif fine_tune_status in [\"FAILURE\", \"CANCELLED\"]:\n",
    "        raise ValueError(\"Fine Tune failed\")\n",
    "    time.sleep(10)\n"
   ]
  },
  {
   "cell_type": "code",
   "execution_count": null,
   "metadata": {},
   "outputs": [],
   "source": [
    "all_models = Model.list().model_endpoints\n",
    "\n",
    "# We want to get just your fine-tuned models.\n",
    "your_personal_fine_tunes = [model for model in all_models if not model.spec.public_inference]\n",
    "\n",
    "your_fine_tuned_model = your_personal_fine_tunes[0].name"
   ]
  },
  {
   "cell_type": "code",
   "execution_count": null,
   "metadata": {},
   "outputs": [],
   "source": [
    "response = Completion.create(model_name=your_fine_tuned_model, prompt=\"TODO\")"
   ]
  }
 ],
 "metadata": {
  "language_info": {
   "name": "python"
  },
  "orig_nbformat": 4
 },
 "nbformat": 4,
 "nbformat_minor": 2
}
