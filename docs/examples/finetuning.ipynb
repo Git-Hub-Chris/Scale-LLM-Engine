{
 "cells": [
  {
   "cell_type": "markdown",
   "metadata": {},
   "source": [
    "## Preparing the Data"
   ]
  },
  {
   "cell_type": "markdown",
   "metadata": {},
   "source": [
    "We will demonstrate fine-tuning open source models in order to classify emails into two categories, based on their content.\n",
    "\n",
    "We will prepare 950 examples to fine-tune on, and use 50 examples to test accuracy. \n",
    "\n"
   ]
  },
  {
   "cell_type": "code",
   "execution_count": null,
   "metadata": {},
   "outputs": [],
   "source": [
    "from sklearn.datasets import fetch_20newsgroups\n",
    "import pandas as pd\n",
    "\n",
    "categories = ['rec.sport.baseball', 'rec.sport.hockey']\n",
    "sports_dataset = fetch_20newsgroups(subset='train', shuffle=True, random_state=42, categories=categories)\n",
    "\n",
    "labels = [sports_dataset.target_names[x].split('.')[-1] for x in sports_dataset['target']]\n",
    "texts = [text.strip() for text in sports_dataset['data']]\n",
    "df = pd.DataFrame(zip(texts, labels), columns = ['raw_prompt','response'])[:1000]\n",
    "df_train = df[:950]\n",
    "df_test = df[950:]"
   ]
  },
  {
   "cell_type": "code",
   "execution_count": null,
   "metadata": {},
   "outputs": [],
   "source": [
    "df_train['raw_prompt'].iloc[0]"
   ]
  },
  {
   "cell_type": "code",
   "execution_count": null,
   "metadata": {},
   "outputs": [],
   "source": [
    "print(df_train['response'].value_counts())\n",
    "\n",
    "df_test['response'].value_counts()"
   ]
  },
  {
   "cell_type": "code",
   "execution_count": null,
   "metadata": {},
   "outputs": [],
   "source": [
    "def build_prompt(text: str):\n",
    "    return f\"Prompt: {text}\\nCategory: \"\n",
    "\n",
    "def prepare_df(df: pd.DataFrame):\n",
    "    df['prompt'] = df['raw_prompt'].apply(build_prompt)\n",
    "    df.drop('raw_prompt', axis=1, inplace=True)"
   ]
  },
  {
   "cell_type": "code",
   "execution_count": null,
   "metadata": {},
   "outputs": [],
   "source": [
    "prepare_df(df_train)"
   ]
  },
  {
   "cell_type": "code",
   "execution_count": null,
   "metadata": {},
   "outputs": [],
   "source": [
    "df_train.head()"
   ]
  },
  {
   "cell_type": "markdown",
   "metadata": {},
   "source": [
    "The data needs to end up in a CSV file that has two columns: `prompt` and `response`, and that is publicly accessible."
   ]
  },
  {
   "cell_type": "code",
   "execution_count": null,
   "metadata": {},
   "outputs": [],
   "source": [
    "df_train.to_csv(\"sports_training_dataset.csv\")"
   ]
  },
  {
   "cell_type": "markdown",
   "metadata": {},
   "source": [
    "Behind the scenes, we upload our csv to `s3://scale-demo-datasets/sports/sports_training_dataset.csv`"
   ]
  },
  {
   "cell_type": "code",
   "execution_count": null,
   "metadata": {},
   "outputs": [],
   "source": [
    "# We need to set an environment variable SCALE_API_KEY. \n",
    "#   Since we're in an ipynb, we can do this. Otherwise, you just need to set the environment variable\n",
    "import dotenv\n",
    "env_file = \".env\"\n",
    "dotenv.load_dotenv(env_file, override=True)\n",
    "\n"
   ]
  },
  {
   "cell_type": "code",
   "execution_count": null,
   "metadata": {},
   "outputs": [],
   "source": [
    "from llmengine import FineTune, Completion, Model\n",
    "\n",
    "FineTune.validate_api_key()"
   ]
  },
  {
   "cell_type": "code",
   "execution_count": null,
   "metadata": {},
   "outputs": [],
   "source": [
    "\n",
    "\n",
    "create_fine_tune_response = FineTune.create(\n",
    "    model=\"llama-7b\",\n",
    "    training_file=\"s3://scale-demo-datasets/sports/sports_training_dataset.csv\",\n",
    "    validation_file=None,\n",
    "    hyperparameters={},\n",
    "    suffix=\"my-first-finetune\"\n",
    ")\n",
    "\n",
    "fine_tune_id = create_fine_tune_response.fine_tune_id\n",
    "\n",
    "\n",
    "\"\"\"\n",
    "Args:\n",
    "            training_file (`str`):\n",
    "                A path to the file containing the training dataset.\n",
    "                Dataset must be a CSV file with columns 'prompt' and 'response'.\n",
    "                The value must be the URI of a publicly accessible file on bulk storage, e.g.\n",
    "                s3://{public_s3_bucket}/{public_s3_key} for a file stored on s3.\n",
    "            validation_file (`str`):\n",
    "                A path to the file containing the validation dataset.\n",
    "                Has the same format as training_file.\n",
    "                If not provided, we will generate a split from the training dataset.\n",
    "            model_name (`str`):\n",
    "                The name of the fine-tuned model\n",
    "            base_model (`str`):\n",
    "                Base model to train from\n",
    "            fine_tuning_method (`str`):\n",
    "                Fine-tuning method\n",
    "            hyperparameters (`str`):\n",
    "                Hyperparameters\n",
    "\"\"\""
   ]
  },
  {
   "cell_type": "code",
   "execution_count": null,
   "metadata": {},
   "outputs": [],
   "source": [
    "# Wait for fine tune to complete\n",
    "\n",
    "import time\n",
    "while True:\n",
    "    fine_tune_status = FineTune.retrieve(fine_tune_id).status\n",
    "    print(fine_tune_status)\n",
    "    if fine_tune_status == \"SUCCESS\":\n",
    "        break\n",
    "    elif fine_tune_status in [\"FAILURE\", \"CANCELLED\"]:\n",
    "        raise ValueError(\"Fine Tune failed\")\n",
    "    time.sleep(10)\n"
   ]
  },
  {
   "cell_type": "code",
   "execution_count": null,
   "metadata": {},
   "outputs": [],
   "source": [
    "all_models = Model.list().model_endpoints\n",
    "\n",
    "# We want to get just your fine-tuned models.\n",
    "your_personal_fine_tunes = [model for model in all_models if not model.spec.public_inference]\n",
    "\n",
    "your_fine_tuned_model = your_personal_fine_tunes[0].name"
   ]
  },
  {
   "cell_type": "code",
   "execution_count": null,
   "metadata": {},
   "outputs": [],
   "source": [
    "# TODO run through everything in test set\n",
    "def get_classification(prompt: str):\n",
    "    response = Completion.create(model_name=your_fine_tuned_model, prompt=build_prompt(prompt), max_new_tokens=2)\n",
    "    print(response)\n",
    "    return response"
   ]
  },
  {
   "cell_type": "code",
   "execution_count": null,
   "metadata": {},
   "outputs": [],
   "source": [
    "df_test[\"predicted_response\"] = df_test[\"prompt\"].apply(get_classification)"
   ]
  },
  {
   "cell_type": "code",
   "execution_count": null,
   "metadata": {},
   "outputs": [],
   "source": [
    "df_test.head()"
   ]
  },
  {
   "cell_type": "code",
   "execution_count": null,
   "metadata": {},
   "outputs": [],
   "source": [
    "num_correct = len(df_test[df_test[\"predicted_response\"].startswith(df_test[\"response\"])])"
   ]
  }
 ],
 "metadata": {
  "kernelspec": {
   "display_name": "Python 3",
   "language": "python",
   "name": "python3"
  },
  "language_info": {
   "codemirror_mode": {
    "name": "ipython",
    "version": 3
   },
   "file_extension": ".py",
   "mimetype": "text/x-python",
   "name": "python",
   "nbconvert_exporter": "python",
   "pygments_lexer": "ipython3",
   "version": "3.8.12"
  },
  "orig_nbformat": 4
 },
 "nbformat": 4,
 "nbformat_minor": 2
}
