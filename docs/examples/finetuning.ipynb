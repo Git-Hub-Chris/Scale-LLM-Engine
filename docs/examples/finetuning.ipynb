{
 "cells": [
  {
   "cell_type": "markdown",
   "metadata": {},
   "source": [
    "## Preparing the Data"
   ]
  },
  {
   "cell_type": "markdown",
   "metadata": {},
   "source": [
    "We will demonstrate fine-tuning open source models in order to classify emails into two categories, based on their content.\n",
    "\n",
    "We will prepare 950 examples to fine-tune on, and use 50 examples to test accuracy. \n",
    "\n"
   ]
  },
  {
   "cell_type": "code",
   "execution_count": null,
   "metadata": {},
   "outputs": [],
   "source": [
    "from sklearn.datasets import fetch_20newsgroups\n",
    "import pandas as pd\n",
    "\n",
    "categories = ['rec.sport.baseball', 'rec.sport.hockey']\n",
    "sports_dataset = fetch_20newsgroups(subset='train', shuffle=True, random_state=42, categories=categories)\n",
    "\n",
    "labels = [sports_dataset.target_names[x].split('.')[-1] for x in sports_dataset['target']]\n",
    "texts = [text.strip() for text in sports_dataset['data']]\n",
    "df = pd.DataFrame(zip(texts, labels), columns = ['raw_prompt','response'])[:1000]\n",
    "df_train = df[:950]\n",
    "df_test = df[950:]"
   ]
  },
  {
   "cell_type": "code",
   "execution_count": null,
   "metadata": {},
   "outputs": [],
   "source": [
    "df_train['raw_prompt'].iloc[0]"
   ]
  },
  {
   "cell_type": "code",
   "execution_count": null,
   "metadata": {},
   "outputs": [],
   "source": [
    "print(df_train['response'].value_counts())\n",
    "\n",
    "df_test['response'].value_counts()"
   ]
  },
  {
   "cell_type": "code",
   "execution_count": null,
   "metadata": {},
   "outputs": [],
   "source": [
    "def build_prompt(text: str):\n",
    "    return f\"Prompt: {text}\\nCategory: \"\n",
    "\n",
    "def prepare_df(df: pd.DataFrame):\n",
    "    df['prompt'] = df.apply(lambda row: build_prompt(row['raw_prompt']), axis=1)\n",
    "    df.drop('raw_prompt', axis=1, inplace=True)"
   ]
  },
  {
   "cell_type": "code",
   "execution_count": null,
   "metadata": {},
   "outputs": [],
   "source": [
    "prepare_df(df_train)"
   ]
  },
  {
   "cell_type": "code",
   "execution_count": null,
   "metadata": {},
   "outputs": [],
   "source": [
    "df_train.head()"
   ]
  },
  {
   "cell_type": "markdown",
   "metadata": {},
   "source": [
    "The data needs to end up in a CSV file that has two columns: `prompt` and `response`, and that is publicly accessible."
   ]
  },
  {
   "cell_type": "code",
   "execution_count": null,
   "metadata": {},
   "outputs": [],
   "source": [
    "df_train.to_csv(\"sports_training_dataset.csv\")"
   ]
  },
  {
   "cell_type": "markdown",
   "metadata": {},
   "source": [
    "Behind the scenes, we upload our csv to `s3://scale-demo-datasets/sports/sports_training_dataset.csv`, which maps to a URL of `https://scale-demo-datasets.s3.us-west-2.amazonaws.com/sports/sports_training_dataset.csv`. We make sure this is publicly accessible."
   ]
  },
  {
   "cell_type": "code",
   "execution_count": null,
   "metadata": {},
   "outputs": [],
   "source": [
    "# We need to set an environment variable SCALE_API_KEY. \n",
    "#   Since we're in an ipynb, we can do this. Otherwise, you just need to set the environment variable\n",
    "import dotenv\n",
    "env_file = \".env\"\n",
    "dotenv.load_dotenv(env_file, override=True)\n",
    "\n"
   ]
  },
  {
   "cell_type": "markdown",
   "metadata": {},
   "source": [
    "## Fine-Tuning the Model"
   ]
  },
  {
   "cell_type": "code",
   "execution_count": null,
   "metadata": {},
   "outputs": [],
   "source": [
    "from llmengine import FineTune, Completion, Model\n",
    "\n",
    "FineTune.validate_api_key()"
   ]
  },
  {
   "cell_type": "code",
   "execution_count": null,
   "metadata": {},
   "outputs": [],
   "source": [
    "\n",
    "\n",
    "create_fine_tune_response = FineTune.create(\n",
    "    model=\"llama-7b\",\n",
    "    training_file=\"https://scale-demo-datasets.s3.us-west-2.amazonaws.com/sports/sports_training_dataset.csv\",\n",
    "    validation_file=None,\n",
    "    hyperparameters={},\n",
    "    suffix=\"my-first-finetune\"\n",
    ")\n",
    "\n",
    "fine_tune_id = create_fine_tune_response.fine_tune_id\n",
    "\n",
    "\n"
   ]
  },
  {
   "cell_type": "code",
   "execution_count": null,
   "metadata": {},
   "outputs": [],
   "source": [
    "# Wait for fine tune to complete\n",
    "\n",
    "import time\n",
    "while True:\n",
    "    fine_tune_status = FineTune.retrieve(fine_tune_id).status\n",
    "    print(fine_tune_status)\n",
    "    if fine_tune_status == \"SUCCESS\":\n",
    "        break\n",
    "    elif fine_tune_status in [\"FAILURE\", \"CANCELLED\"]:\n",
    "        raise ValueError(\"Fine Tune failed\")\n",
    "    time.sleep(10)\n"
   ]
  },
  {
   "cell_type": "code",
   "execution_count": null,
   "metadata": {},
   "outputs": [],
   "source": [
    "all_models = Model.list().model_endpoints\n",
    "\n",
    "# We want to get just your fine-tuned models.\n",
    "your_personal_fine_tunes = [model for model in all_models if not model.spec.public_inference]\n",
    "\n",
    "your_fine_tuned_model = your_personal_fine_tunes[0].name"
   ]
  },
  {
   "cell_type": "code",
   "execution_count": 15,
   "metadata": {},
   "outputs": [],
   "source": [
    "# hard-coded value from a previous run of this script\n",
    "your_fine_tuned_model = \"llama-7b.my-first-finetune.2023-07-17-19-44-20\""
   ]
  },
  {
   "cell_type": "markdown",
   "metadata": {},
   "source": [
    "## Test the Fine-Tune"
   ]
  },
  {
   "cell_type": "code",
   "execution_count": 36,
   "metadata": {},
   "outputs": [],
   "source": [
    "def get_classification(prompt: str):\n",
    "    for _ in range(5):\n",
    "        try:\n",
    "            response = Completion.create(model_name=your_fine_tuned_model, prompt=build_prompt(prompt), max_new_tokens=2)\n",
    "            # print(response.outputs[0].text)\n",
    "        \n",
    "            return response.outputs[0].text.rstrip(\"\\n\")\n",
    "        except Exception as e:\n",
    "            print(e)\n",
    "    return \"Error\""
   ]
  },
  {
   "cell_type": "code",
   "execution_count": 37,
   "metadata": {},
   "outputs": [
    {
     "name": "stderr",
     "output_type": "stream",
     "text": [
      "/var/folders/p5/s862844923q4g7yvtkc3s9tm0000gp/T/ipykernel_97575/814339919.py:1: SettingWithCopyWarning: \n",
      "A value is trying to be set on a copy of a slice from a DataFrame.\n",
      "Try using .loc[row_indexer,col_indexer] = value instead\n",
      "\n",
      "See the caveats in the documentation: https://pandas.pydata.org/pandas-docs/stable/user_guide/indexing.html#returning-a-view-versus-a-copy\n",
      "  df_test[\"predicted_response\"] = df_test[\"raw_prompt\"].apply(get_classification)\n"
     ]
    }
   ],
   "source": [
    "df_test[\"predicted_response\"] = df_test[\"raw_prompt\"].apply(get_classification)"
   ]
  },
  {
   "cell_type": "code",
   "execution_count": 32,
   "metadata": {},
   "outputs": [
    {
     "data": {
      "text/html": [
       "<div>\n",
       "<style scoped>\n",
       "    .dataframe tbody tr th:only-of-type {\n",
       "        vertical-align: middle;\n",
       "    }\n",
       "\n",
       "    .dataframe tbody tr th {\n",
       "        vertical-align: top;\n",
       "    }\n",
       "\n",
       "    .dataframe thead th {\n",
       "        text-align: right;\n",
       "    }\n",
       "</style>\n",
       "<table border=\"1\" class=\"dataframe\">\n",
       "  <thead>\n",
       "    <tr style=\"text-align: right;\">\n",
       "      <th></th>\n",
       "      <th>raw_prompt</th>\n",
       "      <th>response</th>\n",
       "      <th>predicted_response</th>\n",
       "    </tr>\n",
       "  </thead>\n",
       "  <tbody>\n",
       "    <tr>\n",
       "      <th>950</th>\n",
       "      <td>From: tedward@cs.cornell.edu (Edward [Ted] Fis...</td>\n",
       "      <td>baseball</td>\n",
       "      <td>baseball</td>\n",
       "    </tr>\n",
       "    <tr>\n",
       "      <th>951</th>\n",
       "      <td>From: smorris@venus.lerc.nasa.gov (Ron Morris ...</td>\n",
       "      <td>hockey</td>\n",
       "      <td>hockey</td>\n",
       "    </tr>\n",
       "    <tr>\n",
       "      <th>952</th>\n",
       "      <td>From: shah@pitt.edu (Ravindra S Shah)\\nSubject...</td>\n",
       "      <td>hockey</td>\n",
       "      <td>hockey</td>\n",
       "    </tr>\n",
       "    <tr>\n",
       "      <th>953</th>\n",
       "      <td>From: timlin@spot.Colorado.EDU (Michael Timlin...</td>\n",
       "      <td>baseball</td>\n",
       "      <td>baseball</td>\n",
       "    </tr>\n",
       "    <tr>\n",
       "      <th>954</th>\n",
       "      <td>From: gp2011@andy.bgsu.edu (George Pavlic)\\nSu...</td>\n",
       "      <td>hockey</td>\n",
       "      <td>hockey</td>\n",
       "    </tr>\n",
       "  </tbody>\n",
       "</table>\n",
       "</div>"
      ],
      "text/plain": [
       "                                            raw_prompt  response  \\\n",
       "950  From: tedward@cs.cornell.edu (Edward [Ted] Fis...  baseball   \n",
       "951  From: smorris@venus.lerc.nasa.gov (Ron Morris ...    hockey   \n",
       "952  From: shah@pitt.edu (Ravindra S Shah)\\nSubject...    hockey   \n",
       "953  From: timlin@spot.Colorado.EDU (Michael Timlin...  baseball   \n",
       "954  From: gp2011@andy.bgsu.edu (George Pavlic)\\nSu...    hockey   \n",
       "\n",
       "    predicted_response  \n",
       "950           baseball  \n",
       "951             hockey  \n",
       "952             hockey  \n",
       "953           baseball  \n",
       "954             hockey  "
      ]
     },
     "execution_count": 32,
     "metadata": {},
     "output_type": "execute_result"
    }
   ],
   "source": [
    "df_test.head()"
   ]
  },
  {
   "cell_type": "code",
   "execution_count": 38,
   "metadata": {},
   "outputs": [],
   "source": [
    "num_correct = len(df_test[df_test[\"predicted_response\"] == (df_test[\"response\"])])"
   ]
  },
  {
   "cell_type": "code",
   "execution_count": 39,
   "metadata": {},
   "outputs": [
    {
     "data": {
      "text/plain": [
       "0.94"
      ]
     },
     "execution_count": 39,
     "metadata": {},
     "output_type": "execute_result"
    }
   ],
   "source": [
    "num_correct / len(df_test)"
   ]
  },
  {
   "cell_type": "code",
   "execution_count": 40,
   "metadata": {},
   "outputs": [
    {
     "data": {
      "text/html": [
       "<div>\n",
       "<style scoped>\n",
       "    .dataframe tbody tr th:only-of-type {\n",
       "        vertical-align: middle;\n",
       "    }\n",
       "\n",
       "    .dataframe tbody tr th {\n",
       "        vertical-align: top;\n",
       "    }\n",
       "\n",
       "    .dataframe thead th {\n",
       "        text-align: right;\n",
       "    }\n",
       "</style>\n",
       "<table border=\"1\" class=\"dataframe\">\n",
       "  <thead>\n",
       "    <tr style=\"text-align: right;\">\n",
       "      <th></th>\n",
       "      <th>raw_prompt</th>\n",
       "      <th>response</th>\n",
       "      <th>predicted_response</th>\n",
       "    </tr>\n",
       "  </thead>\n",
       "  <tbody>\n",
       "    <tr>\n",
       "      <th>974</th>\n",
       "      <td>From: maX &lt;maX@maxim.rinaco.msk.su&gt;\\nSubject: ...</td>\n",
       "      <td>hockey</td>\n",
       "      <td></td>\n",
       "    </tr>\n",
       "    <tr>\n",
       "      <th>988</th>\n",
       "      <td>From: jca2@cec1.wustl.edu (Joseph Charles Achk...</td>\n",
       "      <td>hockey</td>\n",
       "      <td>NHL</td>\n",
       "    </tr>\n",
       "    <tr>\n",
       "      <th>997</th>\n",
       "      <td>From: apland@mala.bc.ca (Ron Apland)\\nSubject:...</td>\n",
       "      <td>hockey</td>\n",
       "      <td></td>\n",
       "    </tr>\n",
       "  </tbody>\n",
       "</table>\n",
       "</div>"
      ],
      "text/plain": [
       "                                            raw_prompt response  \\\n",
       "974  From: maX <maX@maxim.rinaco.msk.su>\\nSubject: ...   hockey   \n",
       "988  From: jca2@cec1.wustl.edu (Joseph Charles Achk...   hockey   \n",
       "997  From: apland@mala.bc.ca (Ron Apland)\\nSubject:...   hockey   \n",
       "\n",
       "    predicted_response  \n",
       "974                     \n",
       "988                NHL  \n",
       "997                     "
      ]
     },
     "execution_count": 40,
     "metadata": {},
     "output_type": "execute_result"
    }
   ],
   "source": [
    "df_test[df_test[\"predicted_response\"] != df_test[\"response\"]]"
   ]
  }
 ],
 "metadata": {
  "kernelspec": {
   "display_name": "Python 3",
   "language": "python",
   "name": "python3"
  },
  "language_info": {
   "codemirror_mode": {
    "name": "ipython",
    "version": 3
   },
   "file_extension": ".py",
   "mimetype": "text/x-python",
   "name": "python",
   "nbconvert_exporter": "python",
   "pygments_lexer": "ipython3",
   "version": "3.8.12"
  },
  "orig_nbformat": 4
 },
 "nbformat": 4,
 "nbformat_minor": 2
}
