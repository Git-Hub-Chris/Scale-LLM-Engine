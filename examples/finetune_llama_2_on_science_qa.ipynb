{
 "cells": [
  {
   "cell_type": "markdown",
   "id": "ccf0439b",
   "metadata": {},
   "source": [
    "# Finetune on ScienceQA\n",
    "Let's use LLM Engine to fine-tune Llama-2 on ScienceQA!"
   ]
  },
  {
   "cell_type": "markdown",
   "id": "c7a6abb6",
   "metadata": {},
   "source": [
    "# Data Preparation\n",
    "Let's load in the dataset using Huggingface and view the features."
   ]
  },
  {
   "cell_type": "code",
   "execution_count": 1,
   "id": "f059c6c8",
   "metadata": {},
   "outputs": [
    {
     "name": "stderr",
     "output_type": "stream",
     "text": [
      "Using custom data configuration derek-thomas--ScienceQA-ca4903a3b5795914\n",
      "Found cached dataset parquet (/home/ubuntu/.cache/huggingface/datasets/derek-thomas___parquet/derek-thomas--ScienceQA-ca4903a3b5795914/0.0.0/2a3b91fbd88a2c90d1dbbb32b460cf621d31bd5b05b934492fdef7d8d6f236ec)\n"
     ]
    },
    {
     "data": {
      "application/vnd.jupyter.widget-view+json": {
       "model_id": "71b0a2cda6744e4e96b725a13c91b8a9",
       "version_major": 2,
       "version_minor": 0
      },
      "text/plain": [
       "  0%|          | 0/3 [00:00<?, ?it/s]"
      ]
     },
     "metadata": {},
     "output_type": "display_data"
    },
    {
     "data": {
      "text/plain": [
       "{'image': {'bytes': Value(dtype='binary', id=None),\n",
       "  'path': Value(dtype='string', id=None)},\n",
       " 'question': Value(dtype='string', id=None),\n",
       " 'choices': Sequence(feature=Value(dtype='string', id=None), length=-1, id=None),\n",
       " 'answer': Value(dtype='int8', id=None),\n",
       " 'hint': Value(dtype='string', id=None),\n",
       " 'task': Value(dtype='string', id=None),\n",
       " 'grade': Value(dtype='string', id=None),\n",
       " 'subject': Value(dtype='string', id=None),\n",
       " 'topic': Value(dtype='string', id=None),\n",
       " 'category': Value(dtype='string', id=None),\n",
       " 'skill': Value(dtype='string', id=None),\n",
       " 'lecture': Value(dtype='string', id=None),\n",
       " 'solution': Value(dtype='string', id=None)}"
      ]
     },
     "execution_count": 1,
     "metadata": {},
     "output_type": "execute_result"
    }
   ],
   "source": [
    "from datasets import load_dataset\n",
    "from smart_open import smart_open\n",
    "import pandas as pd\n",
    "\n",
    "dataset = load_dataset('derek-thomas/ScienceQA')\n",
    "dataset['train'].features"
   ]
  },
  {
   "cell_type": "markdown",
   "id": "e003e175",
   "metadata": {},
   "source": [
    "Now, let's format the dataset into what's acceptable for LLM Engine - a CSV file with 'prompt' and 'response' columns."
   ]
  },
  {
   "cell_type": "code",
   "execution_count": 2,
   "id": "e5704d20",
   "metadata": {},
   "outputs": [
    {
     "data": {
      "text/html": [
       "<div>\n",
       "<style scoped>\n",
       "    .dataframe tbody tr th:only-of-type {\n",
       "        vertical-align: middle;\n",
       "    }\n",
       "\n",
       "    .dataframe tbody tr th {\n",
       "        vertical-align: top;\n",
       "    }\n",
       "\n",
       "    .dataframe thead th {\n",
       "        text-align: right;\n",
       "    }\n",
       "</style>\n",
       "<table border=\"1\" class=\"dataframe\">\n",
       "  <thead>\n",
       "    <tr style=\"text-align: right;\">\n",
       "      <th></th>\n",
       "      <th>prompt</th>\n",
       "      <th>response</th>\n",
       "    </tr>\n",
       "  </thead>\n",
       "  <tbody>\n",
       "    <tr>\n",
       "      <th>0</th>\n",
       "      <td>Context: The passage below describes an experi...</td>\n",
       "      <td>B</td>\n",
       "    </tr>\n",
       "    <tr>\n",
       "      <th>1</th>\n",
       "      <td>Context: The passage below describes an experi...</td>\n",
       "      <td>A</td>\n",
       "    </tr>\n",
       "    <tr>\n",
       "      <th>2</th>\n",
       "      <td>Context: This passage describes the myotonia c...</td>\n",
       "      <td>A</td>\n",
       "    </tr>\n",
       "    <tr>\n",
       "      <th>3</th>\n",
       "      <td>Context: The diagrams below show two pure samp...</td>\n",
       "      <td>C</td>\n",
       "    </tr>\n",
       "    <tr>\n",
       "      <th>4</th>\n",
       "      <td>Context: Below is a food web from an ocean eco...</td>\n",
       "      <td>A</td>\n",
       "    </tr>\n",
       "    <tr>\n",
       "      <th>...</th>\n",
       "      <td>...</td>\n",
       "      <td>...</td>\n",
       "    </tr>\n",
       "    <tr>\n",
       "      <th>6074</th>\n",
       "      <td>Context: The images below show two pairs of ma...</td>\n",
       "      <td>A</td>\n",
       "    </tr>\n",
       "    <tr>\n",
       "      <th>6075</th>\n",
       "      <td>Context: Select the better answer.\\nQuestion: ...</td>\n",
       "      <td>A</td>\n",
       "    </tr>\n",
       "    <tr>\n",
       "      <th>6076</th>\n",
       "      <td>Context: Read the description of a trait.\\nHan...</td>\n",
       "      <td>A</td>\n",
       "    </tr>\n",
       "    <tr>\n",
       "      <th>6077</th>\n",
       "      <td>Context: The objects are identical except for ...</td>\n",
       "      <td>A</td>\n",
       "    </tr>\n",
       "    <tr>\n",
       "      <th>6078</th>\n",
       "      <td>Context: Read the description of a trait.\\nTom...</td>\n",
       "      <td>A</td>\n",
       "    </tr>\n",
       "  </tbody>\n",
       "</table>\n",
       "<p>6079 rows × 2 columns</p>\n",
       "</div>"
      ],
      "text/plain": [
       "                                                 prompt response\n",
       "0     Context: The passage below describes an experi...        B\n",
       "1     Context: The passage below describes an experi...        A\n",
       "2     Context: This passage describes the myotonia c...        A\n",
       "3     Context: The diagrams below show two pure samp...        C\n",
       "4     Context: Below is a food web from an ocean eco...        A\n",
       "...                                                 ...      ...\n",
       "6074  Context: The images below show two pairs of ma...        A\n",
       "6075  Context: Select the better answer.\\nQuestion: ...        A\n",
       "6076  Context: Read the description of a trait.\\nHan...        A\n",
       "6077  Context: The objects are identical except for ...        A\n",
       "6078  Context: Read the description of a trait.\\nTom...        A\n",
       "\n",
       "[6079 rows x 2 columns]"
      ]
     },
     "execution_count": 2,
     "metadata": {},
     "output_type": "execute_result"
    }
   ],
   "source": [
    "choice_prefixes = [chr(ord('A') + i) for i in range(26)] # A-Z\n",
    "def format_options(options, choice_prefixes):\n",
    "    return ' '.join([f'({c}) {o}' for c, o in zip(choice_prefixes, options)])\n",
    "\n",
    "def format_prompt(r, choice_prefixes):\n",
    "    options = format_options(r['choices'], choice_prefixes)\n",
    "    return f'''Context: {r[\"hint\"]}\\nQuestion: {r[\"question\"]}\\nOptions:{options}\\nAnswer:'''\n",
    "\n",
    "def format_label(r, choice_prefixes):\n",
    "    return choice_prefixes[r['answer']]\n",
    "\n",
    "def convert_dataset(ds):\n",
    "    prompts = [format_prompt(i, choice_prefixes) for i in ds if i['hint'] != '']\n",
    "    labels = [format_label(i, choice_prefixes) for i in ds if i['hint'] != '']\n",
    "    df = pd.DataFrame.from_dict({'prompt': prompts, 'response': labels})\n",
    "    return df\n",
    "\n",
    "save_to_s3 = False\n",
    "df_train = convert_dataset(dataset['train'])\n",
    "if save_to_s3:\n",
    "    train_url = 's3://...'\n",
    "    val_url = 's3://...'\n",
    "    df_train = convert_dataset(dataset['train'])\n",
    "    with smart_open(train_url, 'wb') as f:\n",
    "        df_train.to_csv(f)\n",
    "\n",
    "    df_val = convert_dataset(dataset['validation'])\n",
    "    with smart_open(val_url, 'wb') as f:\n",
    "        df_val.to_csv(f)\n",
    "else:\n",
    "    # Gists of the already processed datasets\n",
    "    train_url = 'https://gist.githubusercontent.com/jihan-yin/43f19a86d35bf22fa3551d2806e478ec/raw/91416c09f09d3fca974f81d1f766dd4cadb29789/scienceqa_train.csv'\n",
    "    val_url = 'https://gist.githubusercontent.com/jihan-yin/43f19a86d35bf22fa3551d2806e478ec/raw/91416c09f09d3fca974f81d1f766dd4cadb29789/scienceqa_val.csv'\n",
    "    \n",
    "df_train"
   ]
  },
  {
   "cell_type": "markdown",
   "id": "138a4b57",
   "metadata": {},
   "source": [
    "# Fine-tune\n",
    "Now, we can fine-tune the model using LLM Engine."
   ]
  },
  {
   "cell_type": "code",
   "execution_count": 3,
   "id": "d0222175",
   "metadata": {},
   "outputs": [],
   "source": [
    "import os\n",
    "os.environ['SCALE_API_KEY'] = 'xxx'\n",
    "\n",
    "from llmengine import FineTune\n",
    "\n",
    "response = FineTune.create(\n",
    "    model=\"llama-2-7b\",\n",
    "    training_file=train_url,\n",
    "    validation_file=val_url,\n",
    "    hyperparameters={\n",
    "        'lr':2e-4,\n",
    "    },\n",
    "    suffix='science-qa-llama'\n",
    ")\n",
    "run_id = response.fine_tune_id"
   ]
  },
  {
   "cell_type": "markdown",
   "id": "1a3e80b4",
   "metadata": {},
   "source": [
    "We can sleep until the job completes."
   ]
  },
  {
   "cell_type": "code",
   "execution_count": 5,
   "id": "214a9593",
   "metadata": {},
   "outputs": [
    {
     "name": "stdout",
     "output_type": "stream",
     "text": [
      "BatchJobStatus.RUNNING\n",
      "BatchJobStatus.RUNNING\n",
      "BatchJobStatus.RUNNING\n",
      "BatchJobStatus.RUNNING\n",
      "BatchJobStatus.RUNNING\n",
      "BatchJobStatus.RUNNING\n",
      "BatchJobStatus.RUNNING\n",
      "BatchJobStatus.RUNNING\n",
      "BatchJobStatus.RUNNING\n",
      "BatchJobStatus.RUNNING\n",
      "BatchJobStatus.RUNNING\n",
      "BatchJobStatus.RUNNING\n",
      "BatchJobStatus.RUNNING\n",
      "BatchJobStatus.RUNNING\n",
      "BatchJobStatus.RUNNING\n",
      "BatchJobStatus.RUNNING\n",
      "BatchJobStatus.RUNNING\n",
      "BatchJobStatus.RUNNING\n",
      "BatchJobStatus.RUNNING\n",
      "BatchJobStatus.RUNNING\n",
      "BatchJobStatus.RUNNING\n",
      "BatchJobStatus.RUNNING\n",
      "BatchJobStatus.RUNNING\n",
      "BatchJobStatus.RUNNING\n",
      "BatchJobStatus.RUNNING\n",
      "BatchJobStatus.RUNNING\n",
      "BatchJobStatus.RUNNING\n",
      "BatchJobStatus.RUNNING\n",
      "BatchJobStatus.RUNNING\n",
      "BatchJobStatus.RUNNING\n",
      "BatchJobStatus.RUNNING\n",
      "BatchJobStatus.RUNNING\n",
      "BatchJobStatus.RUNNING\n",
      "BatchJobStatus.RUNNING\n",
      "BatchJobStatus.RUNNING\n",
      "BatchJobStatus.RUNNING\n",
      "BatchJobStatus.RUNNING\n",
      "BatchJobStatus.RUNNING\n",
      "BatchJobStatus.RUNNING\n",
      "BatchJobStatus.RUNNING\n",
      "BatchJobStatus.RUNNING\n",
      "BatchJobStatus.RUNNING\n",
      "BatchJobStatus.RUNNING\n",
      "BatchJobStatus.RUNNING\n",
      "BatchJobStatus.RUNNING\n",
      "BatchJobStatus.RUNNING\n",
      "BatchJobStatus.RUNNING\n",
      "BatchJobStatus.RUNNING\n",
      "BatchJobStatus.RUNNING\n",
      "BatchJobStatus.RUNNING\n",
      "BatchJobStatus.RUNNING\n",
      "BatchJobStatus.RUNNING\n",
      "BatchJobStatus.RUNNING\n",
      "BatchJobStatus.RUNNING\n",
      "BatchJobStatus.RUNNING\n",
      "BatchJobStatus.RUNNING\n",
      "BatchJobStatus.RUNNING\n",
      "BatchJobStatus.RUNNING\n",
      "BatchJobStatus.RUNNING\n",
      "BatchJobStatus.RUNNING\n",
      "BatchJobStatus.RUNNING\n",
      "BatchJobStatus.RUNNING\n",
      "BatchJobStatus.RUNNING\n",
      "BatchJobStatus.RUNNING\n",
      "BatchJobStatus.RUNNING\n",
      "BatchJobStatus.RUNNING\n",
      "BatchJobStatus.RUNNING\n",
      "BatchJobStatus.RUNNING\n",
      "BatchJobStatus.RUNNING\n",
      "BatchJobStatus.RUNNING\n",
      "BatchJobStatus.RUNNING\n",
      "BatchJobStatus.RUNNING\n",
      "BatchJobStatus.RUNNING\n",
      "BatchJobStatus.RUNNING\n",
      "BatchJobStatus.RUNNING\n",
      "BatchJobStatus.RUNNING\n",
      "BatchJobStatus.RUNNING\n",
      "BatchJobStatus.RUNNING\n",
      "BatchJobStatus.RUNNING\n",
      "BatchJobStatus.RUNNING\n",
      "BatchJobStatus.RUNNING\n",
      "BatchJobStatus.RUNNING\n",
      "BatchJobStatus.RUNNING\n",
      "BatchJobStatus.RUNNING\n",
      "BatchJobStatus.RUNNING\n",
      "BatchJobStatus.RUNNING\n",
      "BatchJobStatus.RUNNING\n",
      "BatchJobStatus.RUNNING\n",
      "BatchJobStatus.RUNNING\n",
      "BatchJobStatus.RUNNING\n",
      "BatchJobStatus.RUNNING\n",
      "BatchJobStatus.RUNNING\n",
      "BatchJobStatus.RUNNING\n",
      "BatchJobStatus.RUNNING\n",
      "BatchJobStatus.RUNNING\n",
      "BatchJobStatus.RUNNING\n",
      "BatchJobStatus.RUNNING\n",
      "BatchJobStatus.RUNNING\n",
      "BatchJobStatus.RUNNING\n",
      "BatchJobStatus.RUNNING\n",
      "BatchJobStatus.RUNNING\n",
      "BatchJobStatus.RUNNING\n",
      "BatchJobStatus.RUNNING\n",
      "BatchJobStatus.SUCCESS\n"
     ]
    }
   ],
   "source": [
    "import time\n",
    "\n",
    "while True:\n",
    "    job_status = FineTune.get(run_id).status\n",
    "    print(job_status)\n",
    "    if job_status == 'SUCCESS':\n",
    "        break\n",
    "    time.sleep(60)\n",
    "    \n",
    "fine_tuned_model = FineTune.get(run_id).fine_tuned_model"
   ]
  },
  {
   "cell_type": "markdown",
   "id": "1d6614cf",
   "metadata": {},
   "source": [
    "# Inference and Evaluation\n",
    "Let's evaluate the new fine-tuned model by running inference against it."
   ]
  },
  {
   "cell_type": "code",
   "execution_count": 11,
   "id": "eba61cf2",
   "metadata": {},
   "outputs": [
    {
     "name": "stdout",
     "output_type": "stream",
     "text": [
      "upstream connect error or disconnect/reset before headers. reset reason: connection failure, transport failure reason: delayed connect error: 111\n",
      "upstream connect error or disconnect/reset before headers. reset reason: connection failure, transport failure reason: delayed connect error: 111\n",
      "upstream connect error or disconnect/reset before headers. reset reason: connection failure, transport failure reason: delayed connect error: 111\n",
      "upstream connect error or disconnect/reset before headers. reset reason: connection failure, transport failure reason: delayed connect error: 111\n",
      "upstream connect error or disconnect/reset before headers. reset reason: connection failure, transport failure reason: delayed connect error: 111\n",
      "upstream connect error or disconnect/reset before headers. reset reason: connection failure, transport failure reason: delayed connect error: 111\n",
      "upstream connect error or disconnect/reset before headers. reset reason: connection failure, transport failure reason: delayed connect error: 111\n",
      "upstream connect error or disconnect/reset before headers. reset reason: connection failure, transport failure reason: delayed connect error: 111\n",
      "Accuracy: 81.48%\n"
     ]
    }
   ],
   "source": [
    "import pandas as pd\n",
    "from llmengine import Completion\n",
    "\n",
    "# Helper function to get outputs for fine-tuned model with retries\n",
    "def get_output(prompt: str, num_retry: int = 5):\n",
    "    for _ in range(num_retry):\n",
    "        try:\n",
    "            response = Completion.create(\n",
    "                model=fine_tuned_model, \n",
    "                prompt=prompt, \n",
    "                max_new_tokens=1, \n",
    "                temperature=0.01\n",
    "            )\n",
    "            return response.output.text.strip()\n",
    "        except Exception as e:\n",
    "            print(e)\n",
    "    return \"\"\n",
    "\n",
    "# Read the test data\n",
    "test = pd.read_csv(val_url)\n",
    "\n",
    "test[\"prediction\"] = test[\"prompt\"].apply(get_output)\n",
    "print(f\"Accuracy: {(test['response'] == test['prediction']).mean() * 100:.2f}%\")"
   ]
  },
  {
   "cell_type": "code",
   "execution_count": null,
   "id": "af7ec1e4",
   "metadata": {},
   "outputs": [],
   "source": []
  }
 ],
 "metadata": {
  "kernelspec": {
   "display_name": "Environment (conda_pytorch_p38)",
   "language": "python",
   "name": "conda_pytorch_p38"
  },
  "language_info": {
   "codemirror_mode": {
    "name": "ipython",
    "version": 3
   },
   "file_extension": ".py",
   "mimetype": "text/x-python",
   "name": "python",
   "nbconvert_exporter": "python",
   "pygments_lexer": "ipython3",
   "version": "3.8.12"
  }
 },
 "nbformat": 4,
 "nbformat_minor": 5
}
