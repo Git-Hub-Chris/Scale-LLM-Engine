{
 "cells": [
  {
   "cell_type": "markdown",
   "id": "56096409",
   "metadata": {},
   "source": [
    "# Finetune on ScienceQA\n",
    "Let's use LLM Engine to fine-tune Llama-2 on ScienceQA!"
   ]
  },
  {
   "cell_type": "markdown",
   "id": "4d212455",
   "metadata": {},
   "source": [
    "# Data Preparation\n",
    "Let's load in the dataset using Huggingface and view the features."
   ]
  },
  {
   "cell_type": "code",
   "execution_count": 1,
   "id": "7a701984",
   "metadata": {},
   "outputs": [
    {
     "name": "stderr",
     "output_type": "stream",
     "text": [
      "Using custom data configuration derek-thomas--ScienceQA-ca4903a3b5795914\n",
      "Found cached dataset parquet (/home/ubuntu/.cache/huggingface/datasets/derek-thomas___parquet/derek-thomas--ScienceQA-ca4903a3b5795914/0.0.0/2a3b91fbd88a2c90d1dbbb32b460cf621d31bd5b05b934492fdef7d8d6f236ec)\n"
     ]
    },
    {
     "data": {
      "application/vnd.jupyter.widget-view+json": {
       "model_id": "bcbcca158cc74706a1294dd24f011cc8",
       "version_major": 2,
       "version_minor": 0
      },
      "text/plain": [
       "  0%|          | 0/3 [00:00<?, ?it/s]"
      ]
     },
     "metadata": {},
     "output_type": "display_data"
    },
    {
     "data": {
      "text/plain": [
       "{'image': {'bytes': Value(dtype='binary', id=None),\n",
       "  'path': Value(dtype='string', id=None)},\n",
       " 'question': Value(dtype='string', id=None),\n",
       " 'choices': Sequence(feature=Value(dtype='string', id=None), length=-1, id=None),\n",
       " 'answer': Value(dtype='int8', id=None),\n",
       " 'hint': Value(dtype='string', id=None),\n",
       " 'task': Value(dtype='string', id=None),\n",
       " 'grade': Value(dtype='string', id=None),\n",
       " 'subject': Value(dtype='string', id=None),\n",
       " 'topic': Value(dtype='string', id=None),\n",
       " 'category': Value(dtype='string', id=None),\n",
       " 'skill': Value(dtype='string', id=None),\n",
       " 'lecture': Value(dtype='string', id=None),\n",
       " 'solution': Value(dtype='string', id=None)}"
      ]
     },
     "execution_count": 1,
     "metadata": {},
     "output_type": "execute_result"
    }
   ],
   "source": [
    "from datasets import load_dataset\n",
    "from smart_open import smart_open\n",
    "import pandas as pd\n",
    "\n",
    "dataset = load_dataset('derek-thomas/ScienceQA')\n",
    "dataset['train'].features"
   ]
  },
  {
   "cell_type": "markdown",
   "id": "4c4db72d",
   "metadata": {},
   "source": [
    "Now, let's format the dataset into what's acceptable for LLM Engine - a CSV file with 'prompt' and 'response' columns."
   ]
  },
  {
   "cell_type": "code",
   "execution_count": 3,
   "id": "13a471ab",
   "metadata": {},
   "outputs": [
    {
     "data": {
      "text/html": [
       "<div>\n",
       "<style scoped>\n",
       "    .dataframe tbody tr th:only-of-type {\n",
       "        vertical-align: middle;\n",
       "    }\n",
       "\n",
       "    .dataframe tbody tr th {\n",
       "        vertical-align: top;\n",
       "    }\n",
       "\n",
       "    .dataframe thead th {\n",
       "        text-align: right;\n",
       "    }\n",
       "</style>\n",
       "<table border=\"1\" class=\"dataframe\">\n",
       "  <thead>\n",
       "    <tr style=\"text-align: right;\">\n",
       "      <th></th>\n",
       "      <th>prompt</th>\n",
       "      <th>response</th>\n",
       "    </tr>\n",
       "  </thead>\n",
       "  <tbody>\n",
       "    <tr>\n",
       "      <th>0</th>\n",
       "      <td>Context: Sturgeons eat invertebrates, plants, ...</td>\n",
       "      <td>B</td>\n",
       "    </tr>\n",
       "    <tr>\n",
       "      <th>1</th>\n",
       "      <td>Context: People can use the engineering-design...</td>\n",
       "      <td>C</td>\n",
       "    </tr>\n",
       "    <tr>\n",
       "      <th>2</th>\n",
       "      <td>Context: Figure: Chicago.\\nChicago is known as...</td>\n",
       "      <td>B</td>\n",
       "    </tr>\n",
       "    <tr>\n",
       "      <th>3</th>\n",
       "      <td>Context: In a group of cows, some individuals ...</td>\n",
       "      <td>A</td>\n",
       "    </tr>\n",
       "    <tr>\n",
       "      <th>4</th>\n",
       "      <td>Context: Bald eagles eat fish, mammals, and ot...</td>\n",
       "      <td>B</td>\n",
       "    </tr>\n",
       "    <tr>\n",
       "      <th>...</th>\n",
       "      <td>...</td>\n",
       "      <td>...</td>\n",
       "    </tr>\n",
       "    <tr>\n",
       "      <th>2090</th>\n",
       "      <td>Context: Select the best estimate.\\nQuestion: ...</td>\n",
       "      <td>C</td>\n",
       "    </tr>\n",
       "    <tr>\n",
       "      <th>2091</th>\n",
       "      <td>Context: Flat-tail horned lizards live in the ...</td>\n",
       "      <td>B</td>\n",
       "    </tr>\n",
       "    <tr>\n",
       "      <th>2092</th>\n",
       "      <td>Context: Read the description of a trait.\\nTim...</td>\n",
       "      <td>B</td>\n",
       "    </tr>\n",
       "    <tr>\n",
       "      <th>2093</th>\n",
       "      <td>Context: Garrett enjoys feeding the squirrels ...</td>\n",
       "      <td>A</td>\n",
       "    </tr>\n",
       "    <tr>\n",
       "      <th>2094</th>\n",
       "      <td>Context: Read the description of a trait.\\nRic...</td>\n",
       "      <td>B</td>\n",
       "    </tr>\n",
       "  </tbody>\n",
       "</table>\n",
       "<p>2095 rows × 2 columns</p>\n",
       "</div>"
      ],
      "text/plain": [
       "                                                 prompt response\n",
       "0     Context: Sturgeons eat invertebrates, plants, ...        B\n",
       "1     Context: People can use the engineering-design...        C\n",
       "2     Context: Figure: Chicago.\\nChicago is known as...        B\n",
       "3     Context: In a group of cows, some individuals ...        A\n",
       "4     Context: Bald eagles eat fish, mammals, and ot...        B\n",
       "...                                                 ...      ...\n",
       "2090  Context: Select the best estimate.\\nQuestion: ...        C\n",
       "2091  Context: Flat-tail horned lizards live in the ...        B\n",
       "2092  Context: Read the description of a trait.\\nTim...        B\n",
       "2093  Context: Garrett enjoys feeding the squirrels ...        A\n",
       "2094  Context: Read the description of a trait.\\nRic...        B\n",
       "\n",
       "[2095 rows x 2 columns]"
      ]
     },
     "execution_count": 3,
     "metadata": {},
     "output_type": "execute_result"
    }
   ],
   "source": [
    "choice_prefixes = [chr(ord('A') + i) for i in range(26)] # A-Z\n",
    "def format_options(options, choice_prefixes):\n",
    "    return ' '.join([f'({c}) {o}' for c, o in zip(choice_prefixes, options)])\n",
    "\n",
    "def format_prompt(r, choice_prefixes):\n",
    "    options = format_options(r['choices'], choice_prefixes)\n",
    "    return f'''Context: {r[\"hint\"]}\\nQuestion: {r[\"question\"]}\\nOptions:{options}\\nAnswer:'''\n",
    "\n",
    "def format_label(r, choice_prefixes):\n",
    "    return choice_prefixes[r['answer']]\n",
    "\n",
    "def convert_dataset(ds):\n",
    "    prompts = [format_prompt(i, choice_prefixes) for i in ds if i['hint'] != '']\n",
    "    labels = [format_label(i, choice_prefixes) for i in ds if i['hint'] != '']\n",
    "    df = pd.DataFrame.from_dict({'prompt': prompts, 'response': labels})\n",
    "    return df\n",
    "\n",
    "train_s3_uri = 's3://...'\n",
    "val_s3_uri = 's3://...'\n",
    "df_train = convert_dataset(dataset['train'])\n",
    "#with smart_open(train_s3_uri, 'wb') as f:\n",
    "#    df.to_csv(f)\n",
    "    \n",
    "df_train = convert_dataset(dataset['validation'])\n",
    "#with smart_open(val_s3_uri, 'wb') as f:\n",
    "#    df.to_csv(f)\n",
    "    \n",
    "df_train"
   ]
  },
  {
   "cell_type": "markdown",
   "id": "9188f0d1",
   "metadata": {},
   "source": [
    "# Fine-tune\n",
    "Now, we can fine-tune the model using LLM Engine."
   ]
  },
  {
   "cell_type": "code",
   "execution_count": null,
   "id": "f1736c00",
   "metadata": {},
   "outputs": [],
   "source": [
    "import os\n",
    "os.environ['SCALE_API_KEY'] = 'xxx'\n",
    "\n",
    "from llmengine import FineTune\n",
    "\n",
    "response = FineTune.create(\n",
    "    model=\"llama-2-7b\",\n",
    "    training_file=train_s3_uri,\n",
    "    validation_file=val_s3_uri,\n",
    "    hyperparameters={\n",
    "        'lr':2e-4,\n",
    "    },\n",
    "    suffix='science-qa-llama'\n",
    ")\n",
    "run_id = response.fine_tune_id"
   ]
  },
  {
   "cell_type": "markdown",
   "id": "861ea698",
   "metadata": {},
   "source": [
    "We can sleep until the job completes."
   ]
  },
  {
   "cell_type": "code",
   "execution_count": 6,
   "id": "5b6cad2c",
   "metadata": {},
   "outputs": [
    {
     "name": "stdout",
     "output_type": "stream",
     "text": [
      "BatchJobStatus.SUCCESS\n"
     ]
    }
   ],
   "source": [
    "while True:\n",
    "    job_status = FineTune.get(run_id).status\n",
    "    print(job_status)\n",
    "    if job_status == 'SUCCESS':\n",
    "        break\n",
    "    time.sleep(60)\n",
    "    \n",
    "ft_model = FineTune.get(run_id).fine_tuned_model"
   ]
  },
  {
   "cell_type": "markdown",
   "id": "34dd15b6",
   "metadata": {},
   "source": [
    "# Evaluation\n",
    "Let's evaluate the new fine-tuned model by running inference against it."
   ]
  },
  {
   "cell_type": "code",
   "execution_count": null,
   "id": "50134463",
   "metadata": {},
   "outputs": [],
   "source": [
    "import pandas as pd\n",
    "\n",
    "# Helper function to get outputs for fine-tuned model with retries\n",
    "def get_output(prompt: str, num_retry: int = 5):\n",
    "    for _ in range(num_retry):\n",
    "        try:\n",
    "            response = Completion.create(\n",
    "                model=fine_tuned_model, \n",
    "                prompt=prompt, \n",
    "                max_new_tokens=1, \n",
    "                temperature=0.01\n",
    "            )\n",
    "            return response.output.text.strip()\n",
    "        except Exception as e:\n",
    "            print(e)\n",
    "    return \"\"\n",
    "\n",
    "# Read the test data\n",
    "test = pd.read_csv(\"<path to science qa validation>\")\n",
    "\n",
    "test[\"prediction\"] = test[\"prompt\"].apply(get_output)\n",
    "print(f\"Accuracy: {(test['response'] == test[\"prediction\"]).mean() * 100:.2f}%\")"
   ]
  }
 ],
 "metadata": {
  "kernelspec": {
   "display_name": "Environment (conda_pytorch_p38)",
   "language": "python",
   "name": "conda_pytorch_p38"
  },
  "language_info": {
   "codemirror_mode": {
    "name": "ipython",
    "version": 3
   },
   "file_extension": ".py",
   "mimetype": "text/x-python",
   "name": "python",
   "nbconvert_exporter": "python",
   "pygments_lexer": "ipython3",
   "version": "3.8.12"
  }
 },
 "nbformat": 4,
 "nbformat_minor": 5
}
